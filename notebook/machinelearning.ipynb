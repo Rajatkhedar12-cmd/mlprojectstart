{
 "cells": [
  {
   "cell_type": "code",
   "execution_count": 92,
   "id": "a75ef305-611b-42a7-bda2-ee2b72aee131",
   "metadata": {},
   "outputs": [
    {
     "name": "stdout",
     "output_type": "stream",
     "text": [
      "Requirement already satisfied: catboost in /opt/anaconda3/lib/python3.12/site-packages (1.2.7)\n",
      "Requirement already satisfied: graphviz in /opt/anaconda3/lib/python3.12/site-packages (from catboost) (0.20.3)\n",
      "Requirement already satisfied: matplotlib in /opt/anaconda3/lib/python3.12/site-packages (from catboost) (3.8.4)\n",
      "Requirement already satisfied: numpy<2.0,>=1.16.0 in /opt/anaconda3/lib/python3.12/site-packages (from catboost) (1.26.4)\n",
      "Requirement already satisfied: pandas>=0.24 in /opt/anaconda3/lib/python3.12/site-packages (from catboost) (2.2.2)\n",
      "Requirement already satisfied: scipy in /opt/anaconda3/lib/python3.12/site-packages (from catboost) (1.13.1)\n",
      "Requirement already satisfied: plotly in /opt/anaconda3/lib/python3.12/site-packages (from catboost) (5.22.0)\n",
      "Requirement already satisfied: six in /opt/anaconda3/lib/python3.12/site-packages (from catboost) (1.16.0)\n",
      "Requirement already satisfied: python-dateutil>=2.8.2 in /opt/anaconda3/lib/python3.12/site-packages (from pandas>=0.24->catboost) (2.9.0.post0)\n",
      "Requirement already satisfied: pytz>=2020.1 in /opt/anaconda3/lib/python3.12/site-packages (from pandas>=0.24->catboost) (2024.1)\n",
      "Requirement already satisfied: tzdata>=2022.7 in /opt/anaconda3/lib/python3.12/site-packages (from pandas>=0.24->catboost) (2023.3)\n",
      "Requirement already satisfied: contourpy>=1.0.1 in /opt/anaconda3/lib/python3.12/site-packages (from matplotlib->catboost) (1.2.0)\n",
      "Requirement already satisfied: cycler>=0.10 in /opt/anaconda3/lib/python3.12/site-packages (from matplotlib->catboost) (0.11.0)\n",
      "Requirement already satisfied: fonttools>=4.22.0 in /opt/anaconda3/lib/python3.12/site-packages (from matplotlib->catboost) (4.51.0)\n",
      "Requirement already satisfied: kiwisolver>=1.3.1 in /opt/anaconda3/lib/python3.12/site-packages (from matplotlib->catboost) (1.4.4)\n",
      "Requirement already satisfied: packaging>=20.0 in /opt/anaconda3/lib/python3.12/site-packages (from matplotlib->catboost) (23.2)\n",
      "Requirement already satisfied: pillow>=8 in /opt/anaconda3/lib/python3.12/site-packages (from matplotlib->catboost) (10.3.0)\n",
      "Requirement already satisfied: pyparsing>=2.3.1 in /opt/anaconda3/lib/python3.12/site-packages (from matplotlib->catboost) (3.0.9)\n",
      "Requirement already satisfied: tenacity>=6.2.0 in /opt/anaconda3/lib/python3.12/site-packages (from plotly->catboost) (8.2.2)\n",
      "Requirement already satisfied: xgboost in /opt/anaconda3/lib/python3.12/site-packages (2.1.3)\n",
      "Requirement already satisfied: numpy in /opt/anaconda3/lib/python3.12/site-packages (from xgboost) (1.26.4)\n",
      "Requirement already satisfied: scipy in /opt/anaconda3/lib/python3.12/site-packages (from xgboost) (1.13.1)\n",
      "Requirement already satisfied: kagglehub in /opt/anaconda3/lib/python3.12/site-packages (0.3.7)\n",
      "Requirement already satisfied: model-signing in /opt/anaconda3/lib/python3.12/site-packages (from kagglehub) (0.2.0)\n",
      "Requirement already satisfied: packaging in /opt/anaconda3/lib/python3.12/site-packages (from kagglehub) (23.2)\n",
      "Requirement already satisfied: requests in /opt/anaconda3/lib/python3.12/site-packages (from kagglehub) (2.32.2)\n",
      "Requirement already satisfied: tqdm in /opt/anaconda3/lib/python3.12/site-packages (from kagglehub) (4.66.4)\n",
      "Requirement already satisfied: cryptography in /opt/anaconda3/lib/python3.12/site-packages (from model-signing->kagglehub) (44.0.0)\n",
      "Requirement already satisfied: in-toto-attestation in /opt/anaconda3/lib/python3.12/site-packages (from model-signing->kagglehub) (0.9.3)\n",
      "Requirement already satisfied: sigstore in /opt/anaconda3/lib/python3.12/site-packages (from model-signing->kagglehub) (3.6.1)\n",
      "Requirement already satisfied: typing-extensions in /opt/anaconda3/lib/python3.12/site-packages (from model-signing->kagglehub) (4.11.0)\n",
      "Requirement already satisfied: charset-normalizer<4,>=2 in /opt/anaconda3/lib/python3.12/site-packages (from requests->kagglehub) (2.0.4)\n",
      "Requirement already satisfied: idna<4,>=2.5 in /opt/anaconda3/lib/python3.12/site-packages (from requests->kagglehub) (3.7)\n",
      "Requirement already satisfied: urllib3<3,>=1.21.1 in /opt/anaconda3/lib/python3.12/site-packages (from requests->kagglehub) (2.2.2)\n",
      "Requirement already satisfied: certifi>=2017.4.17 in /opt/anaconda3/lib/python3.12/site-packages (from requests->kagglehub) (2024.8.30)\n",
      "Requirement already satisfied: cffi>=1.12 in /opt/anaconda3/lib/python3.12/site-packages (from cryptography->model-signing->kagglehub) (1.16.0)\n",
      "Requirement already satisfied: protobuf in /opt/anaconda3/lib/python3.12/site-packages (from in-toto-attestation->model-signing->kagglehub) (3.20.3)\n",
      "Requirement already satisfied: id>=1.1.0 in /opt/anaconda3/lib/python3.12/site-packages (from sigstore->model-signing->kagglehub) (1.5.0)\n",
      "Requirement already satisfied: pyasn1~=0.6 in /opt/anaconda3/lib/python3.12/site-packages (from sigstore->model-signing->kagglehub) (0.6.1)\n",
      "Requirement already satisfied: pydantic<3,>=2 in /opt/anaconda3/lib/python3.12/site-packages (from sigstore->model-signing->kagglehub) (2.5.3)\n",
      "Requirement already satisfied: pyjwt>=2.1 in /opt/anaconda3/lib/python3.12/site-packages (from sigstore->model-signing->kagglehub) (2.8.0)\n",
      "Requirement already satisfied: pyOpenSSL>=23.0.0 in /opt/anaconda3/lib/python3.12/site-packages (from sigstore->model-signing->kagglehub) (25.0.0)\n",
      "Requirement already satisfied: rich~=13.0 in /opt/anaconda3/lib/python3.12/site-packages (from sigstore->model-signing->kagglehub) (13.3.5)\n",
      "Requirement already satisfied: rfc8785~=0.1.2 in /opt/anaconda3/lib/python3.12/site-packages (from sigstore->model-signing->kagglehub) (0.1.4)\n",
      "Requirement already satisfied: rfc3161-client~=0.1.2 in /opt/anaconda3/lib/python3.12/site-packages (from sigstore->model-signing->kagglehub) (0.1.2)\n",
      "Requirement already satisfied: sigstore-protobuf-specs==0.3.2 in /opt/anaconda3/lib/python3.12/site-packages (from sigstore->model-signing->kagglehub) (0.3.2)\n",
      "Requirement already satisfied: sigstore-rekor-types==0.0.18 in /opt/anaconda3/lib/python3.12/site-packages (from sigstore->model-signing->kagglehub) (0.0.18)\n",
      "Requirement already satisfied: tuf~=5.0 in /opt/anaconda3/lib/python3.12/site-packages (from sigstore->model-signing->kagglehub) (5.1.0)\n",
      "Requirement already satisfied: platformdirs~=4.2 in /opt/anaconda3/lib/python3.12/site-packages (from sigstore->model-signing->kagglehub) (4.3.6)\n",
      "Requirement already satisfied: betterproto==2.0.0b6 in /opt/anaconda3/lib/python3.12/site-packages (from sigstore-protobuf-specs==0.3.2->sigstore->model-signing->kagglehub) (2.0.0b6)\n",
      "Requirement already satisfied: grpclib<0.5.0,>=0.4.1 in /opt/anaconda3/lib/python3.12/site-packages (from betterproto==2.0.0b6->sigstore-protobuf-specs==0.3.2->sigstore->model-signing->kagglehub) (0.4.7)\n",
      "Requirement already satisfied: python-dateutil<3.0,>=2.8 in /opt/anaconda3/lib/python3.12/site-packages (from betterproto==2.0.0b6->sigstore-protobuf-specs==0.3.2->sigstore->model-signing->kagglehub) (2.9.0.post0)\n",
      "Requirement already satisfied: pycparser in /opt/anaconda3/lib/python3.12/site-packages (from cffi>=1.12->cryptography->model-signing->kagglehub) (2.21)\n",
      "Requirement already satisfied: annotated-types>=0.4.0 in /opt/anaconda3/lib/python3.12/site-packages (from pydantic<3,>=2->sigstore->model-signing->kagglehub) (0.6.0)\n",
      "Requirement already satisfied: pydantic-core==2.14.6 in /opt/anaconda3/lib/python3.12/site-packages (from pydantic<3,>=2->sigstore->model-signing->kagglehub) (2.14.6)\n",
      "Requirement already satisfied: markdown-it-py<3.0.0,>=2.2.0 in /opt/anaconda3/lib/python3.12/site-packages (from rich~=13.0->sigstore->model-signing->kagglehub) (2.2.0)\n",
      "Requirement already satisfied: pygments<3.0.0,>=2.13.0 in /opt/anaconda3/lib/python3.12/site-packages (from rich~=13.0->sigstore->model-signing->kagglehub) (2.15.1)\n",
      "Requirement already satisfied: securesystemslib~=1.0 in /opt/anaconda3/lib/python3.12/site-packages (from tuf~=5.0->sigstore->model-signing->kagglehub) (1.2.0)\n",
      "Requirement already satisfied: mdurl~=0.1 in /opt/anaconda3/lib/python3.12/site-packages (from markdown-it-py<3.0.0,>=2.2.0->rich~=13.0->sigstore->model-signing->kagglehub) (0.1.0)\n",
      "Requirement already satisfied: email-validator>=2.0.0 in /opt/anaconda3/lib/python3.12/site-packages (from pydantic[email]<3,>=2->sigstore-rekor-types==0.0.18->sigstore->model-signing->kagglehub) (2.2.0)\n",
      "Requirement already satisfied: dnspython>=2.0.0 in /opt/anaconda3/lib/python3.12/site-packages (from email-validator>=2.0.0->pydantic[email]<3,>=2->sigstore-rekor-types==0.0.18->sigstore->model-signing->kagglehub) (2.7.0)\n",
      "Requirement already satisfied: h2<5,>=3.1.0 in /opt/anaconda3/lib/python3.12/site-packages (from grpclib<0.5.0,>=0.4.1->betterproto==2.0.0b6->sigstore-protobuf-specs==0.3.2->sigstore->model-signing->kagglehub) (4.2.0)\n",
      "Requirement already satisfied: multidict in /opt/anaconda3/lib/python3.12/site-packages (from grpclib<0.5.0,>=0.4.1->betterproto==2.0.0b6->sigstore-protobuf-specs==0.3.2->sigstore->model-signing->kagglehub) (6.0.4)\n",
      "Requirement already satisfied: six>=1.5 in /opt/anaconda3/lib/python3.12/site-packages (from python-dateutil<3.0,>=2.8->betterproto==2.0.0b6->sigstore-protobuf-specs==0.3.2->sigstore->model-signing->kagglehub) (1.16.0)\n",
      "Requirement already satisfied: hyperframe<7,>=6.1 in /opt/anaconda3/lib/python3.12/site-packages (from h2<5,>=3.1.0->grpclib<0.5.0,>=0.4.1->betterproto==2.0.0b6->sigstore-protobuf-specs==0.3.2->sigstore->model-signing->kagglehub) (6.1.0)\n",
      "Requirement already satisfied: hpack<5,>=4.1 in /opt/anaconda3/lib/python3.12/site-packages (from h2<5,>=3.1.0->grpclib<0.5.0,>=0.4.1->betterproto==2.0.0b6->sigstore-protobuf-specs==0.3.2->sigstore->model-signing->kagglehub) (4.1.0)\n"
     ]
    }
   ],
   "source": [
    "import numpy as np\n",
    "import pandas as pd\n",
    "import seaborn as sns\n",
    "import matplotlib.pyplot as plt\n",
    "%matplotlib inline\n",
    "import warnings\n",
    "!{sys.executable} -m pip install catboost\n",
    "!{sys.executable} -m pip install xgboost\n",
    "warnings.filterwarnings('ignore')\n",
    "from sklearn.metrics import mean_squared_error,r2_score\n",
    "from sklearn.neighbors import KNeighborsRegressor\n",
    "from sklearn.ensemble import RandomForestRegressor,AdaBoostRegressor\n",
    "from sklearn.tree import DecisionTreeRegressor\n",
    "from sklearn.svm import SVR\n",
    "from sklearn.linear_model import LinearRegression,Ridge,Lasso\n",
    "from sklearn.metrics import r2_score,mean_absolute_error,mean_squared_error\n",
    "from sklearn.model_selection import RandomizedSearchCV\n",
    "from catboost import CatBoostRegressor\n",
    "from xgboost import XGBRegressor\n",
    "\n",
    "import sys\n",
    "!{sys.executable} -m pip install kagglehub"
   ]
  },
  {
   "cell_type": "code",
   "execution_count": 93,
   "id": "f57f1cba-373b-4ef2-af6e-41ad34b7424d",
   "metadata": {},
   "outputs": [
    {
     "name": "stdout",
     "output_type": "stream",
     "text": [
      "Path to dataset files: /Users/rajatkhedar/.cache/kagglehub/datasets/spscientist/students-performance-in-exams/versions/1\n"
     ]
    }
   ],
   "source": [
    "import kagglehub\n",
    "\n",
    "# Download latest version\n",
    "path = kagglehub.dataset_download(\"spscientist/students-performance-in-exams\")\n",
    "\n",
    "print(\"Path to dataset files:\", path)"
   ]
  },
  {
   "cell_type": "code",
   "execution_count": 94,
   "id": "aaf5c4b6-fdd9-4c8b-9fa4-c6cb5adf7b68",
   "metadata": {},
   "outputs": [
    {
     "name": "stdout",
     "output_type": "stream",
     "text": [
      "['StudentsPerformance.csv']\n"
     ]
    }
   ],
   "source": [
    "import os\n",
    "\n",
    "folder_path = \"/Users/rajatkhedar/.cache/kagglehub/datasets/spscientist/students-performance-in-exams/versions/1\"\n",
    "print(os.listdir(folder_path))"
   ]
  },
  {
   "cell_type": "code",
   "execution_count": 95,
   "id": "c5f5ecf3-67fa-47d6-bb53-79a76e4a6d9d",
   "metadata": {},
   "outputs": [
    {
     "data": {
      "text/html": [
       "<div>\n",
       "<style scoped>\n",
       "    .dataframe tbody tr th:only-of-type {\n",
       "        vertical-align: middle;\n",
       "    }\n",
       "\n",
       "    .dataframe tbody tr th {\n",
       "        vertical-align: top;\n",
       "    }\n",
       "\n",
       "    .dataframe thead th {\n",
       "        text-align: right;\n",
       "    }\n",
       "</style>\n",
       "<table border=\"1\" class=\"dataframe\">\n",
       "  <thead>\n",
       "    <tr style=\"text-align: right;\">\n",
       "      <th></th>\n",
       "      <th>gender</th>\n",
       "      <th>race/ethnicity</th>\n",
       "      <th>parental level of education</th>\n",
       "      <th>lunch</th>\n",
       "      <th>test preparation course</th>\n",
       "      <th>math score</th>\n",
       "      <th>reading score</th>\n",
       "      <th>writing score</th>\n",
       "    </tr>\n",
       "  </thead>\n",
       "  <tbody>\n",
       "    <tr>\n",
       "      <th>0</th>\n",
       "      <td>female</td>\n",
       "      <td>group B</td>\n",
       "      <td>bachelor's degree</td>\n",
       "      <td>standard</td>\n",
       "      <td>none</td>\n",
       "      <td>72</td>\n",
       "      <td>72</td>\n",
       "      <td>74</td>\n",
       "    </tr>\n",
       "    <tr>\n",
       "      <th>1</th>\n",
       "      <td>female</td>\n",
       "      <td>group C</td>\n",
       "      <td>some college</td>\n",
       "      <td>standard</td>\n",
       "      <td>completed</td>\n",
       "      <td>69</td>\n",
       "      <td>90</td>\n",
       "      <td>88</td>\n",
       "    </tr>\n",
       "    <tr>\n",
       "      <th>2</th>\n",
       "      <td>female</td>\n",
       "      <td>group B</td>\n",
       "      <td>master's degree</td>\n",
       "      <td>standard</td>\n",
       "      <td>none</td>\n",
       "      <td>90</td>\n",
       "      <td>95</td>\n",
       "      <td>93</td>\n",
       "    </tr>\n",
       "    <tr>\n",
       "      <th>3</th>\n",
       "      <td>male</td>\n",
       "      <td>group A</td>\n",
       "      <td>associate's degree</td>\n",
       "      <td>free/reduced</td>\n",
       "      <td>none</td>\n",
       "      <td>47</td>\n",
       "      <td>57</td>\n",
       "      <td>44</td>\n",
       "    </tr>\n",
       "    <tr>\n",
       "      <th>4</th>\n",
       "      <td>male</td>\n",
       "      <td>group C</td>\n",
       "      <td>some college</td>\n",
       "      <td>standard</td>\n",
       "      <td>none</td>\n",
       "      <td>76</td>\n",
       "      <td>78</td>\n",
       "      <td>75</td>\n",
       "    </tr>\n",
       "  </tbody>\n",
       "</table>\n",
       "</div>"
      ],
      "text/plain": [
       "   gender race/ethnicity parental level of education         lunch  \\\n",
       "0  female        group B           bachelor's degree      standard   \n",
       "1  female        group C                some college      standard   \n",
       "2  female        group B             master's degree      standard   \n",
       "3    male        group A          associate's degree  free/reduced   \n",
       "4    male        group C                some college      standard   \n",
       "\n",
       "  test preparation course  math score  reading score  writing score  \n",
       "0                    none          72             72             74  \n",
       "1               completed          69             90             88  \n",
       "2                    none          90             95             93  \n",
       "3                    none          47             57             44  \n",
       "4                    none          76             78             75  "
      ]
     },
     "execution_count": 95,
     "metadata": {},
     "output_type": "execute_result"
    }
   ],
   "source": [
    "df = pd.read_csv(\"/Users/rajatkhedar/.cache/kagglehub/datasets/spscientist/students-performance-in-exams/versions/1/StudentsPerformance.csv\")\n",
    "df.head()\n"
   ]
  },
  {
   "cell_type": "code",
   "execution_count": 96,
   "id": "959a3a82-eac4-4231-9222-9755b5d71c51",
   "metadata": {},
   "outputs": [
    {
     "data": {
      "text/plain": [
       "(1000, 8)"
      ]
     },
     "execution_count": 96,
     "metadata": {},
     "output_type": "execute_result"
    }
   ],
   "source": [
    "df.shape"
   ]
  },
  {
   "cell_type": "code",
   "execution_count": 97,
   "id": "57b76c93-09f2-43e1-a1bc-672bc5d1d610",
   "metadata": {},
   "outputs": [
    {
     "data": {
      "text/plain": [
       "gender                         0\n",
       "race/ethnicity                 0\n",
       "parental level of education    0\n",
       "lunch                          0\n",
       "test preparation course        0\n",
       "math score                     0\n",
       "reading score                  0\n",
       "writing score                  0\n",
       "dtype: int64"
      ]
     },
     "execution_count": 97,
     "metadata": {},
     "output_type": "execute_result"
    }
   ],
   "source": [
    "df.isnull().sum()"
   ]
  },
  {
   "cell_type": "code",
   "execution_count": 98,
   "id": "bb5bebf6-3f23-455b-b127-cee0f5cfac8f",
   "metadata": {},
   "outputs": [
    {
     "data": {
      "text/plain": [
       "0"
      ]
     },
     "execution_count": 98,
     "metadata": {},
     "output_type": "execute_result"
    }
   ],
   "source": [
    "df.duplicated().sum()\n"
   ]
  },
  {
   "cell_type": "code",
   "execution_count": 99,
   "id": "50d1b69f-0ea9-4e2c-b143-9793801deb32",
   "metadata": {},
   "outputs": [],
   "source": [
    "x=df.drop(columns=['math score'],axis=1)"
   ]
  },
  {
   "cell_type": "code",
   "execution_count": 100,
   "id": "d31c885f-19f7-46ce-a797-039945d51b69",
   "metadata": {},
   "outputs": [],
   "source": [
    "y=df['math score']"
   ]
  },
  {
   "cell_type": "code",
   "execution_count": 101,
   "id": "2dfcf4de-788f-49a3-962e-c0fd06d4fa7b",
   "metadata": {},
   "outputs": [],
   "source": [
    "num_features=x.select_dtypes(exclude=\"object\").columns\n",
    "cat_features=x.select_dtypes(include=\"object\").columns\n",
    "from sklearn.preprocessing import OneHotEncoder ,StandardScaler\n",
    "from sklearn.compose import ColumnTransformer ## it is used for applying two or more things at same time\n",
    "numeric_transformer=StandardScaler()\n",
    "on_transformer=OneHotEncoder(drop='first')\n",
    "preprocessor=ColumnTransformer(\n",
    "    [\n",
    "        (\"OneHotEncoder\",on_transformer,cat_features),\n",
    "        (\"StandardScaler\",numeric_transformer,num_features)\n",
    "    ],remainder='passthrough'\n",
    ")\n"
   ]
  },
  {
   "cell_type": "code",
   "execution_count": 102,
   "id": "cd0f61e5-cc9b-4ed1-ab58-bf3b609b0615",
   "metadata": {},
   "outputs": [],
   "source": [
    "x=preprocessor.fit_transform(x)"
   ]
  },
  {
   "cell_type": "code",
   "execution_count": 126,
   "id": "498c8fa1-d217-40fb-9284-f9f528d1c692",
   "metadata": {},
   "outputs": [
    {
     "data": {
      "text/plain": [
       "((800, 14), (200, 14))"
      ]
     },
     "execution_count": 126,
     "metadata": {},
     "output_type": "execute_result"
    }
   ],
   "source": [
    "from sklearn.model_selection import train_test_split\n",
    "\n",
    "\n",
    "xtrain,xtest,ytrain,ytest=train_test_split(x,y,test_size=0.2,random_state=42)\n",
    "xtrain.shape,xtest.shape"
   ]
  },
  {
   "cell_type": "code",
   "execution_count": 128,
   "id": "7f9554fd-feaa-4796-902f-6da67cd1a29c",
   "metadata": {},
   "outputs": [],
   "source": [
    "def evaluate_model(true,predicted):\n",
    "    mae=mean_absolute_error(true,predicted)\n",
    "    mse=mean_squared_error(true,predicted)\n",
    "    rmse=np.sqrt(mean_squared_error(true,predicted))\n",
    "    r2_square=r2_score(true,predicted)\n",
    "    return mae,mse,rmse,r2_square"
   ]
  },
  {
   "cell_type": "code",
   "execution_count": 132,
   "id": "11819f1b-4ef4-4271-81d0-51e6c5ee650b",
   "metadata": {},
   "outputs": [],
   "source": [
    "models={\n",
    "    \"Linear Regression\":LinearRegression(),\n",
    "    \"Lasso\":Lasso(),\n",
    "    \"Ridge\":Ridge(),\n",
    "    \"KNeighborsRegressor\":KNeighborsRegressor(),\n",
    "    \"DecisionTreeRegressor\":DecisionTreeRegressor(),\n",
    "    \"RandomForestRegressor\":RandomForestRegressor(),\n",
    "    \"XGBRegressor\":XGBRegressor(),\n",
    "    \"CatBoostRegressor\":CatBoostRegressor(verbose=False),\n",
    "    \"AdaBoostRegressor\":AdaBoostRegressor(),\n",
    "}"
   ]
  },
  {
   "cell_type": "code",
   "execution_count": 148,
   "id": "af2794d7-4540-47c9-850a-32e3e3a71caa",
   "metadata": {},
   "outputs": [
    {
     "name": "stdout",
     "output_type": "stream",
     "text": [
      "Linear Regression\n",
      "Train MAE: 4.266711846071957\n",
      "Train MSE: 28.33487038064859\n",
      "Train RMSE: 5.323050852720514\n",
      "Train R2: 0.8743172040139593\n",
      " \n",
      "Test MAE: 4.21476314247485\n",
      "Test MSE: 29.095169866715484\n",
      "Test RMSE: 5.393993869732842\n",
      "Test R2: 0.8804332983749565\n",
      "Lasso\n",
      "Train MAE: 5.206302661246526\n",
      "Train MSE: 43.47840400585579\n",
      "Train RMSE: 6.593815587795566\n",
      "Train R2: 0.8071462015863456\n",
      " \n",
      "Test MAE: 5.157881810347763\n",
      "Test MSE: 42.506416838411624\n",
      "Test RMSE: 6.519694535667421\n",
      "Test R2: 0.8253197323627852\n",
      "Ridge\n",
      "Train MAE: 4.264991671776522\n",
      "Train MSE: 28.33968664708975\n",
      "Train RMSE: 5.323503230682757\n",
      "Train R2: 0.8742958408729106\n",
      " \n",
      "Test MAE: 4.212514888062383\n",
      "Test MSE: 29.090766576214747\n",
      "Test RMSE: 5.3935856882239985\n",
      "Test R2: 0.8804513937125634\n",
      "KNeighborsRegressor\n",
      "Train MAE: 4.464\n",
      "Train MSE: 31.114400000000003\n",
      "Train RMSE: 5.5780283254928\n",
      "Train R2: 0.8619882591699171\n",
      " \n",
      "Test MAE: 5.746999999999999\n",
      "Test MSE: 54.871\n",
      "Test RMSE: 7.407496203171488\n",
      "Test R2: 0.774507434913684\n",
      "DecisionTreeRegressor\n",
      "Train MAE: 0.01875\n",
      "Train MSE: 0.078125\n",
      "Train RMSE: 0.2795084971874737\n",
      "Train R2: 0.9996534669718089\n",
      " \n",
      "Test MAE: 6.485\n",
      "Test MSE: 65.675\n",
      "Test RMSE: 8.104011352410607\n",
      "Test R2: 0.7301083593875853\n",
      "RandomForestRegressor\n",
      "Train MAE: 1.8422249999999998\n",
      "Train MSE: 5.4158071041666656\n",
      "Train RMSE: 2.3271886696541526\n",
      "Train R2: 0.9759775227404041\n",
      " \n",
      "Test MAE: 4.692570833333334\n",
      "Test MSE: 36.208994142361114\n",
      "Test RMSE: 6.017390974696684\n",
      "Test R2: 0.8511990128053726\n",
      "XGBRegressor\n",
      "Train MAE: 0.7100880169868469\n",
      "Train MSE: 1.1044905463022632\n",
      "Train RMSE: 1.0509474517321327\n",
      "Train R2: 0.9951008965936818\n",
      " \n",
      "Test MAE: 5.0785425710678105\n",
      "Test MSE: 42.57313826223222\n",
      "Test RMSE: 6.524809442599241\n",
      "Test R2: 0.8250455404398475\n",
      "CatBoostRegressor\n",
      "Train MAE: 2.4444683752477294\n",
      "Train MSE: 9.579512530108037\n",
      "Train RMSE: 3.095078759920018\n",
      "Train R2: 0.9575088961836384\n",
      " \n",
      "Test MAE: 4.633506055518442\n",
      "Test MSE: 36.549149493554154\n",
      "Test RMSE: 6.045589259415012\n",
      "Test R2: 0.8498011432081655\n",
      "AdaBoostRegressor\n",
      "Train MAE: 4.748568869712446\n",
      "Train MSE: 33.45929013351361\n",
      "Train RMSE: 5.7844005854983465\n",
      "Train R2: 0.8515872111220197\n",
      " \n",
      "Test MAE: 4.7399953337323515\n",
      "Test MSE: 37.058050807919805\n",
      "Test RMSE: 6.087532407135079\n",
      "Test R2: 0.8477098114891862\n"
     ]
    }
   ],
   "source": [
    "model_list = []\n",
    "r2_list = []\n",
    "\n",
    "for i in range(len(models)):  # Loop through models dictionary\n",
    "    model = list(models.values())[i]  # Get model instance\n",
    "    model.fit(xtrain, ytrain)  # Train model\n",
    "    \n",
    "    # Predict on training and test data\n",
    "    ytrainpred = model.predict(xtrain)\n",
    "    ytestpred = model.predict(xtest)\n",
    "\n",
    "    # Evaluate model\n",
    "    train_mae, train_mse, train_rmse, train_r2 = evaluate_model(ytrain, ytrainpred)\n",
    "    test_mae, test_mse, test_rmse, test_r2 = evaluate_model(ytest, ytestpred)\n",
    "\n",
    "    # Print results\n",
    "    print(list(models.keys())[i])  # Model name\n",
    "    model_list.append(model.__class__.__name__)  # Store model name instead of incorrect .values()\n",
    "    \n",
    "    print(\"Train MAE:\", train_mae)\n",
    "    print(\"Train MSE:\", train_mse)\n",
    "    print(\"Train RMSE:\", train_rmse)\n",
    "    print(\"Train R2:\", train_r2)\n",
    "    print(\" \")\n",
    "    print(\"Test MAE:\", test_mae)\n",
    "    print(\"Test MSE:\", test_mse)\n",
    "    print(\"Test RMSE:\", test_rmse)\n",
    "    print(\"Test R2:\", test_r2)\n",
    "    \n",
    "    r2_list.append(test_r2)  # Append the correct test R2 score\n"
   ]
  },
  {
   "cell_type": "code",
   "execution_count": 150,
   "id": "c83e9283-56f9-4f38-84cd-209a0c4ac11c",
   "metadata": {},
   "outputs": [
    {
     "data": {
      "text/html": [
       "<div>\n",
       "<style scoped>\n",
       "    .dataframe tbody tr th:only-of-type {\n",
       "        vertical-align: middle;\n",
       "    }\n",
       "\n",
       "    .dataframe tbody tr th {\n",
       "        vertical-align: top;\n",
       "    }\n",
       "\n",
       "    .dataframe thead th {\n",
       "        text-align: right;\n",
       "    }\n",
       "</style>\n",
       "<table border=\"1\" class=\"dataframe\">\n",
       "  <thead>\n",
       "    <tr style=\"text-align: right;\">\n",
       "      <th></th>\n",
       "      <th>Model name</th>\n",
       "      <th>R2_score</th>\n",
       "    </tr>\n",
       "  </thead>\n",
       "  <tbody>\n",
       "    <tr>\n",
       "      <th>2</th>\n",
       "      <td>Ridge</td>\n",
       "      <td>0.880451</td>\n",
       "    </tr>\n",
       "    <tr>\n",
       "      <th>0</th>\n",
       "      <td>LinearRegression</td>\n",
       "      <td>0.880433</td>\n",
       "    </tr>\n",
       "    <tr>\n",
       "      <th>5</th>\n",
       "      <td>RandomForestRegressor</td>\n",
       "      <td>0.851199</td>\n",
       "    </tr>\n",
       "    <tr>\n",
       "      <th>7</th>\n",
       "      <td>CatBoostRegressor</td>\n",
       "      <td>0.849801</td>\n",
       "    </tr>\n",
       "    <tr>\n",
       "      <th>8</th>\n",
       "      <td>AdaBoostRegressor</td>\n",
       "      <td>0.847710</td>\n",
       "    </tr>\n",
       "    <tr>\n",
       "      <th>1</th>\n",
       "      <td>Lasso</td>\n",
       "      <td>0.825320</td>\n",
       "    </tr>\n",
       "    <tr>\n",
       "      <th>6</th>\n",
       "      <td>XGBRegressor</td>\n",
       "      <td>0.825046</td>\n",
       "    </tr>\n",
       "    <tr>\n",
       "      <th>3</th>\n",
       "      <td>KNeighborsRegressor</td>\n",
       "      <td>0.774507</td>\n",
       "    </tr>\n",
       "    <tr>\n",
       "      <th>4</th>\n",
       "      <td>DecisionTreeRegressor</td>\n",
       "      <td>0.730108</td>\n",
       "    </tr>\n",
       "  </tbody>\n",
       "</table>\n",
       "</div>"
      ],
      "text/plain": [
       "              Model name  R2_score\n",
       "2                  Ridge  0.880451\n",
       "0       LinearRegression  0.880433\n",
       "5  RandomForestRegressor  0.851199\n",
       "7      CatBoostRegressor  0.849801\n",
       "8      AdaBoostRegressor  0.847710\n",
       "1                  Lasso  0.825320\n",
       "6           XGBRegressor  0.825046\n",
       "3    KNeighborsRegressor  0.774507\n",
       "4  DecisionTreeRegressor  0.730108"
      ]
     },
     "execution_count": 150,
     "metadata": {},
     "output_type": "execute_result"
    }
   ],
   "source": [
    "pd.DataFrame(list(zip(model_list,r2_list)),columns=['Model name','R2_score']).sort_values(by=[\"R2_score\"],ascending=False)"
   ]
  },
  {
   "cell_type": "code",
   "execution_count": 152,
   "id": "4eb2a5a1-55d7-4b3c-9b11-765d73b937c6",
   "metadata": {},
   "outputs": [
    {
     "name": "stdout",
     "output_type": "stream",
     "text": [
      "accuracy of the model is 88.04 \n"
     ]
    }
   ],
   "source": [
    "lin_model=LinearRegression(fit_intercept=True)\n",
    "lin_model=lin_model.fit(xtrain,ytrain)\n",
    "ypred=lin_model.predict(xtest)\n",
    "score=r2_score(ytest,ypred)*100\n",
    "print(\"accuracy of the model is %.2f \" %score)"
   ]
  },
  {
   "cell_type": "code",
   "execution_count": 154,
   "id": "6c7622f8-3f44-4ece-ba56-8e62d29989b7",
   "metadata": {},
   "outputs": [
    {
     "data": {
      "text/plain": [
       "Text(0, 0.5, 'predicted')"
      ]
     },
     "execution_count": 154,
     "metadata": {},
     "output_type": "execute_result"
    },
    {
     "data": {
      "image/png": "[encoded data removed]",
      "text/plain": [
       "<Figure size 640x480 with 1 Axes>"
      ]
     },
     "metadata": {},
     "output_type": "display_data"
    }
   ],
   "source": [
    "plt.scatter(ytest,ypred)\n",
    "plt.xlabel('actual')\n",
    "plt.ylabel('predicted')"
   ]
  },
  {
   "cell_type": "code",
   "execution_count": 156,
   "id": "ab7a8ca9-5460-41cf-a4c1-c8663d81d983",
   "metadata": {},
   "outputs": [
    {
     "data": {
      "text/plain": [
       "<Axes: xlabel='math score'>"
      ]
     },
     "execution_count": 156,
     "metadata": {},
     "output_type": "execute_result"
    },
    {
     "data": {
      "image/png": "[encoded data removed]",
      "text/plain": [
       "<Figure size 640x480 with 1 Axes>"
      ]
     },
     "metadata": {},
     "output_type": "display_data"
    }
   ],
   "source": [
    "sns.regplot(x=ytest,y=ypred,ci=None,color='red')"
   ]
  },
  {
   "cell_type": "code",
   "execution_count": null,
   "id": "8f6d24c4-626b-48d8-8a58-6ae6418c4a93",
   "metadata": {},
   "outputs": [],
   "source": []
  }
 ],
 "metadata": {
  "kernelspec": {
   "display_name": "Python 3 (ipykernel)",
   "language": "python",
   "name": "python3"
  },
  "language_info": {
   "codemirror_mode": {
    "name": "ipython",
    "version": 3
   },
   "file_extension": ".py",
   "mimetype": "text/x-python",
   "name": "python",
   "nbconvert_exporter": "python",
   "pygments_lexer": "ipython3",
   "version": "3.12.4"
  }
 },
 "nbformat": 4,
 "nbformat_minor": 5
}
